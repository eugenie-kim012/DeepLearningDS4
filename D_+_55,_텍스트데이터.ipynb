{
  "nbformat": 4,
  "nbformat_minor": 0,
  "metadata": {
    "colab": {
      "provenance": [],
      "include_colab_link": true
    },
    "kernelspec": {
      "name": "python3",
      "display_name": "Python 3"
    },
    "language_info": {
      "name": "python"
    }
  },
  "cells": [
    {
      "cell_type": "markdown",
      "metadata": {
        "id": "view-in-github",
        "colab_type": "text"
      },
      "source": [
        "<a href=\"https://colab.research.google.com/github/eugenie-kim012/DeepLearningDS4/blob/main/D_%2B_55%2C_%ED%85%8D%EC%8A%A4%ED%8A%B8%EB%8D%B0%EC%9D%B4%ED%84%B0.ipynb\" target=\"_parent\"><img src=\"https://colab.research.google.com/assets/colab-badge.svg\" alt=\"Open In Colab\"/></a>"
      ]
    },
    {
      "cell_type": "markdown",
      "source": [
        "## startswith, endswith\n"
      ],
      "metadata": {
        "id": "YYobVdI6AWLs"
      }
    },
    {
      "cell_type": "code",
      "source": [
        "EmployeeID = ['OB94382', 'OW34723', 'OB32308', 'OB83461',\n",
        "                                  'OB74830', 'OW37402', 'OW11235', 'OB82345']\n",
        "Production_Employee = [P for P in EmployeeID if P.startswith('OB')]   # 'OB'로 시작하는 직원 ID를 다 찾아봅니다\n",
        "Production_Employee"
      ],
      "metadata": {
        "colab": {
          "base_uri": "https://localhost:8080/"
        },
        "id": "2pCQoGHSAUvM",
        "outputId": "6c15dd30-29f6-4373-c75a-b647e878a016"
      },
      "execution_count": 1,
      "outputs": [
        {
          "output_type": "execute_result",
          "data": {
            "text/plain": [
              "['OB94382', 'OB32308', 'OB83461', 'OB74830', 'OB82345']"
            ]
          },
          "metadata": {},
          "execution_count": 1
        }
      ]
    },
    {
      "cell_type": "markdown",
      "source": [
        "# 공백 문자 처리 : trimming\n"
      ],
      "metadata": {
        "id": "N146eU4rBpn-"
      }
    },
    {
      "cell_type": "code",
      "source": [
        "#캐리지 리턴 (carriage return, 복귀) \\r : 커서를 맨 앞으로 이동시키는 것,\n",
        "#즉 커서를 원위치로 복귀(return)한다는 뜻입니다. 커서를 맨 앞으로 보내고,\\r 뒤에 문자가 있으면 그 문자를 출력합니다.\n",
        "\n",
        "print(\"사회적 거리두기\")\n",
        "print('--------------------------')\n",
        "print(\"사회적\\t거리두기\")\n",
        "print('--------------------------')\n",
        "print(\"사회적\\n거리두기\")\n",
        "print('--------------------------')\n",
        "print(\"사회적\\r거리두기\")"
      ],
      "metadata": {
        "colab": {
          "base_uri": "https://localhost:8080/"
        },
        "id": "KiwgGcjgBuFo",
        "outputId": "e3a0de34-fc51-4399-d1de-fed0214cfc86"
      },
      "execution_count": 3,
      "outputs": [
        {
          "output_type": "stream",
          "name": "stdout",
          "text": [
            "사회적 거리두기\n",
            "--------------------------\n",
            "사회적\t거리두기\n",
            "--------------------------\n",
            "사회적\n",
            "거리두기\n",
            "--------------------------\n",
            "사회적\r거리두기\n"
          ]
        }
      ]
    },
    {
      "cell_type": "code",
      "source": [
        "txt = \"      Strip white spaces.      \"\n",
        "print('[{}]'.format(txt))\n",
        "print('--------------------------')\n",
        "\n",
        "#- 양쪽 공백 제거 : strip()\n",
        "print('[{}]'.format(txt.strip()))\n",
        "print('--------------------------')\n",
        "\n",
        "#- 왼쪽 공백 제거 : lstrip()\n",
        "print('[{}]'.format(txt.lstrip()))\n",
        "print('--------------------------')\n",
        "\n",
        "#- 오른쪽 공백 제거 : rstrip()\n",
        "print('[{}]'.format(txt.rstrip()))"
      ],
      "metadata": {
        "colab": {
          "base_uri": "https://localhost:8080/"
        },
        "id": "qyMZHJ6fCPru",
        "outputId": "9d057241-6238-40f0-d579-caaf3dec8377"
      },
      "execution_count": 4,
      "outputs": [
        {
          "output_type": "stream",
          "name": "stdout",
          "text": [
            "[      Strip white spaces.      ]\n",
            "--------------------------\n",
            "[Strip white spaces.]\n",
            "--------------------------\n",
            "[Strip white spaces.      ]\n",
            "--------------------------\n",
            "[      Strip white spaces.]\n"
          ]
        }
      ]
    },
    {
      "cell_type": "code",
      "source": [
        "#- 모든 문자를 대문자로 변환 : upper()\n",
        "txt = \"I fell into AIFFEL\"\n",
        "txt.upper()\n",
        "#- 모든 문자를 소문자로 변환 : lower()\n",
        "txt.lower()\n",
        "#- 첫 글자만 대문자로 변환 : capitalize()\n",
        "txt.capitalize()"
      ],
      "metadata": {
        "colab": {
          "base_uri": "https://localhost:8080/",
          "height": 35
        },
        "id": "tfiVubJGChJ-",
        "outputId": "d0771f35-9a39-4336-96fd-e83b2ae2c303"
      },
      "execution_count": 5,
      "outputs": [
        {
          "output_type": "execute_result",
          "data": {
            "text/plain": [
              "'I fell into aiffel'"
            ],
            "application/vnd.google.colaboratory.intrinsic+json": {
              "type": "string"
            }
          },
          "metadata": {},
          "execution_count": 5
        }
      ]
    },
    {
      "cell_type": "markdown",
      "source": [
        "isX\n",
        "문자열의 구성에 따라 불린(boolean)의 값을 반환(return).\n",
        "\n",
        "* isupper() : 문자열이 모두 대문자로만 되어 있으면 True, 그렇지 않으면 False를 반환\n",
        "* islower() : 문자열이 모두 소문자로만 되어 있으면 True, 그렇지 않으면 False를 반환\n",
        "* istitle(): 문자열의 첫 글자만 대문자로 되어 있으면 True, 그렇지 않으면 False를 반환\n",
        "* isalpha(): 문자열이 모두 알파벳 문자로만 되어 있으면 True, 그렇지 않으면 False를 반환\n",
        "* isalnum(): 문자열이 모두 알파벳 문자와 숫자로만 되어 있으면 True, 그렇지 않으면 False를 반환\n",
        "* isdecimal(): 문자열이 모두 숫자로만 되어 있으면 True, 그렇지 않으면 False를 반환"
      ],
      "metadata": {
        "id": "Q6QdlL6pC7az"
      }
    },
    {
      "cell_type": "code",
      "source": [
        "print(\"aiffel\".isupper())\n",
        "print(\"aiffel\".islower())\n",
        "print(\"PYTHON\".istitle())\n",
        "print(\"python101\".isalpha())\n",
        "print(\"python101\".isalnum())\n",
        "print(\"101\".isdecimal())"
      ],
      "metadata": {
        "colab": {
          "base_uri": "https://localhost:8080/"
        },
        "id": "QeSS7rv8DMH0",
        "outputId": "f27340c8-5b0d-4afe-e7ea-8e490bcb936e"
      },
      "execution_count": 6,
      "outputs": [
        {
          "output_type": "stream",
          "name": "stdout",
          "text": [
            "False\n",
            "True\n",
            "False\n",
            "False\n",
            "True\n",
            "True\n"
          ]
        }
      ]
    },
    {
      "cell_type": "code",
      "source": [
        "#- join()\n",
        "stages = ['fundamentals', 'exploration', 'goingdeeper']\n",
        "\",\".join(stages)"
      ],
      "metadata": {
        "colab": {
          "base_uri": "https://localhost:8080/",
          "height": 35
        },
        "id": "cGBG4lQNDri9",
        "outputId": "6be2db8a-4b33-41e3-9603-7cc277bc5012"
      },
      "execution_count": 7,
      "outputs": [
        {
          "output_type": "execute_result",
          "data": {
            "text/plain": [
              "'fundamentals,exploration,goingdeeper'"
            ],
            "application/vnd.google.colaboratory.intrinsic+json": {
              "type": "string"
            }
          },
          "metadata": {},
          "execution_count": 7
        }
      ]
    },
    {
      "cell_type": "code",
      "source": [
        "# 큰따옴표 안에 다양한 구분자(빈칸, 언더바, 온점 등)를 넣어 보세요.\n",
        "\"_\".join(stages)"
      ],
      "metadata": {
        "colab": {
          "base_uri": "https://localhost:8080/",
          "height": 35
        },
        "id": "AUz8BLguD9qJ",
        "outputId": "2ddd8e2f-c90c-4cd7-dfb7-82b0201b0b82"
      },
      "execution_count": 8,
      "outputs": [
        {
          "output_type": "execute_result",
          "data": {
            "text/plain": [
              "'fundamentals_exploration_goingdeeper'"
            ],
            "application/vnd.google.colaboratory.intrinsic+json": {
              "type": "string"
            }
          },
          "metadata": {},
          "execution_count": 8
        }
      ]
    },
    {
      "cell_type": "code",
      "source": [
        "#- split()\n",
        "'fundamentals,exploration,goingdeeper'.split(',')"
      ],
      "metadata": {
        "colab": {
          "base_uri": "https://localhost:8080/"
        },
        "id": "p_WDmXc_D_6y",
        "outputId": "52baa423-c871-46b2-fd26-03ce6fd7816f"
      },
      "execution_count": 9,
      "outputs": [
        {
          "output_type": "execute_result",
          "data": {
            "text/plain": [
              "['fundamentals', 'exploration', 'goingdeeper']"
            ]
          },
          "metadata": {},
          "execution_count": 9
        }
      ]
    },
    {
      "cell_type": "code",
      "source": [
        "sent = 'I can do it!'\n",
        "sent.replace('I', 'You')"
      ],
      "metadata": {
        "colab": {
          "base_uri": "https://localhost:8080/",
          "height": 35
        },
        "id": "Y6AWkKecERhh",
        "outputId": "c4e6d0a5-7eb1-4daa-b44d-c333c281d010"
      },
      "execution_count": 10,
      "outputs": [
        {
          "output_type": "execute_result",
          "data": {
            "text/plain": [
              "'You can do it!'"
            ],
            "application/vnd.google.colaboratory.intrinsic+json": {
              "type": "string"
            }
          },
          "metadata": {},
          "execution_count": 10
        }
      ]
    },
    {
      "cell_type": "markdown",
      "source": [
        "# 정규 표현식\n",
        "## 1. Compile"
      ],
      "metadata": {
        "id": "BveMhyveLm-O"
      }
    },
    {
      "cell_type": "code",
      "source": [
        "import re\n",
        "\n",
        "#1단계 :  \"the\"라는 패턴을 컴파일한 후 패턴 객체를 리턴합니다.\n",
        "pattern = re.compile(\"the\")\n",
        "\n",
        "# 2단계 : 컴파일된 패턴 객체를 활용하여 다른 텍스트에서 검색을 수행합니다.\n",
        "pattern.findall('of the people, for the people, by the people')"
      ],
      "metadata": {
        "colab": {
          "base_uri": "https://localhost:8080/"
        },
        "id": "sofw1kzoLsTf",
        "outputId": "e549ae4e-cdeb-4706-da96-30273d28afa5"
      },
      "execution_count": 11,
      "outputs": [
        {
          "output_type": "execute_result",
          "data": {
            "text/plain": [
              "['the', 'the', 'the']"
            ]
          },
          "metadata": {},
          "execution_count": 11
        }
      ]
    },
    {
      "cell_type": "code",
      "source": [
        "# 명시적으로 한 줄로 compile하기\n",
        "re.findall('the', 'of the people, for the people, by the people')"
      ],
      "metadata": {
        "colab": {
          "base_uri": "https://localhost:8080/"
        },
        "id": "7BwZRmkALxv7",
        "outputId": "efda53b7-748b-4064-eb7f-8dcb354a31ce"
      },
      "execution_count": 12,
      "outputs": [
        {
          "output_type": "execute_result",
          "data": {
            "text/plain": [
              "['the', 'the', 'the']"
            ]
          },
          "metadata": {},
          "execution_count": 12
        }
      ]
    },
    {
      "cell_type": "code",
      "source": [
        "# 한 줄로 메소드 찾기 예시 (import re 필요함)\n",
        "src = \"My name is...\"\n",
        "regex = re.match(\"My\", src)\n",
        "print(regex)\n",
        "if regex:\n",
        "    print(regex.group())\n",
        "else:\n",
        "    print(\"No!\")"
      ],
      "metadata": {
        "colab": {
          "base_uri": "https://localhost:8080/"
        },
        "id": "0r2eGXwNNXyd",
        "outputId": "bd4ec89c-ad09-4048-e132-290d170a49fa"
      },
      "execution_count": 13,
      "outputs": [
        {
          "output_type": "stream",
          "name": "stdout",
          "text": [
            "<re.Match object; span=(0, 2), match='My'>\n",
            "My\n"
          ]
        }
      ]
    },
    {
      "cell_type": "markdown",
      "source": [
        "#정규 표현식 메소드 이용하기"
      ],
      "metadata": {
        "id": "5kceSJjgPHmD"
      }
    },
    {
      "cell_type": "code",
      "source": [
        "#- 연도(숫자)\n",
        "text = \"\"\"\n",
        "The first season of America Premiere League  was played in 1993.\n",
        "The second season was played in 1995 in South Africa.\n",
        "Last season was played in 2019 and won by Chennai Super Kings (CSK).\n",
        "CSK won the title in 2000 and 2002 as well.\n",
        "Mumbai Indians (MI) has also won the title 3 times in 2013, 2015 and 2017.\n",
        "\"\"\"\n",
        "pattern = re.compile(\"[1-2]\\d\\d\\d\")\n",
        "pattern.findall(text)"
      ],
      "metadata": {
        "colab": {
          "base_uri": "https://localhost:8080/"
        },
        "id": "O__92mymPDWk",
        "outputId": "015acdf4-104e-4324-acb8-b969310c27e0"
      },
      "execution_count": 14,
      "outputs": [
        {
          "output_type": "execute_result",
          "data": {
            "text/plain": [
              "['1993', '1995', '2019', '2000', '2002', '2013', '2015', '2017']"
            ]
          },
          "metadata": {},
          "execution_count": 14
        }
      ]
    },
    {
      "cell_type": "code",
      "source": [
        "#- 전화번호(숫자, 기호)\n",
        "phonenumber = re.compile(r'\\d\\d\\d-\\d\\d\\d-\\d\\d\\d\\d')\n",
        "phone = phonenumber.search('This is my phone number 010-111-1111')\n",
        "if phone:\n",
        "  print(phone.group())\n",
        "print('------')\n",
        "phone = phonenumber.match ('This is my phone number 010-111-1111')\n",
        "if phone:\n",
        "  print(phone.group())\n",
        "# 그런데 search()와 달리 match()를 사용한 경우, 패턴과 검색 대상이 처음부터 일치하지 않으므로 아무것도 출력되지 않는 것을 볼 수 있어요.\n",
        "\n"
      ],
      "metadata": {
        "colab": {
          "base_uri": "https://localhost:8080/"
        },
        "id": "i9y7nt5mPL5Y",
        "outputId": "36dd61ba-913c-440f-bffe-ee817a0b505a"
      },
      "execution_count": 15,
      "outputs": [
        {
          "output_type": "stream",
          "name": "stdout",
          "text": [
            "010-111-1111\n",
            "------\n"
          ]
        }
      ]
    },
    {
      "cell_type": "code",
      "source": [
        "#위에서 사용한 정규 표현식을 아래처럼 써도 결과는 같아요. \\d\\d\\d를 \\d{3}으로 바꿔서 숫자가 세 번 등장하는 것을 표현할 수 있습니다.\n",
        "\n",
        "#- 전화번호(숫자, 기호)\n",
        "phonenumber = re.compile(r'\\d{3}-\\d{3}-\\d{4}')\n",
        "phone = phonenumber.search('This is my phone number 010-111-1111')\n",
        "if phone:\n",
        "  print(phone.group())\n",
        "print('------')\n",
        "phone = phonenumber.match ('This is my phone number 010-111-1111')\n",
        "if phone:\n",
        "  print(phone.group())"
      ],
      "metadata": {
        "colab": {
          "base_uri": "https://localhost:8080/"
        },
        "id": "2hukBjO6QPyB",
        "outputId": "2aa957d5-dcd2-4712-e20f-3325c134980a"
      },
      "execution_count": 16,
      "outputs": [
        {
          "output_type": "stream",
          "name": "stdout",
          "text": [
            "010-111-1111\n",
            "------\n"
          ]
        }
      ]
    },
    {
      "cell_type": "code",
      "source": [
        "#- 전화번호(숫자, 기호)\n",
        "phonenumber = re.compile(r'(\\d{3}-){2}\\d{4}')\n",
        "phone = phonenumber.search('This is my phone number 010-111-1111')\n",
        "if phone:\n",
        "  print(phone.group())\n",
        "print('------')\n",
        "phone = phonenumber.match ('This is my phone number 010-111-1111')\n",
        "if phone:\n",
        "  print(phone.group())"
      ],
      "metadata": {
        "colab": {
          "base_uri": "https://localhost:8080/"
        },
        "id": "DZP9fverQycb",
        "outputId": "23130ee7-3d64-4f8b-955c-46d478be1fc9"
      },
      "execution_count": 17,
      "outputs": [
        {
          "output_type": "stream",
          "name": "stdout",
          "text": [
            "010-111-1111\n",
            "------\n"
          ]
        }
      ]
    },
    {
      "cell_type": "code",
      "source": [
        "#- 이메일(알파벳, 숫자, 기호)\n",
        "text = \"My e-mail adress is doingharu@aiffel.com, and tomorrow@aiffel.com\"\n",
        "pattern = re.compile(\"[0-9a-zA-Z]+@[0-9a-z]+\\.[0-9a-z]+\")\n",
        "pattern.findall(text)"
      ],
      "metadata": {
        "colab": {
          "base_uri": "https://localhost:8080/"
        },
        "id": "f2jhw3S1RD-L",
        "outputId": "b8972d3e-fe9f-42e3-8fd4-ad18d5343661"
      },
      "execution_count": 18,
      "outputs": [
        {
          "output_type": "execute_result",
          "data": {
            "text/plain": [
              "['doingharu@aiffel.com', 'tomorrow@aiffel.com']"
            ]
          },
          "metadata": {},
          "execution_count": 18
        }
      ]
    },
    {
      "cell_type": "markdown",
      "source": [
        "잘 파악이 안 된다면 @기호를 중심으로 앞부분과 뒷부분으로 나눠보세요. @ 앞에는 [0-9a-zA-Z]+이 나오고 뒤에는 [0-9a-z]+\\.[0-9a-z]+가 나오네요.\n",
        "\n",
        "앞부분 [0-9a-zA-Z]+를 보면 숫자 0~9, 알파벳 대소문자([0-9a-zA-Z])가 여러 번(+) 등장한다는 이야기네요. modu.lab@aiffel.com 형식의 메일 주소는 검출이 안 되겠어요.\n",
        "\n",
        "뒷부분 [0-9a-z]+\\.[0-9a-z]+은 다시 가운데 \\.을 중심으로 앞부분과 뒷부분으로 나눠볼 수 있을 텐데요. [0-9a-z]+은 숫자 0~9, 알파벳 소문자가 여러 번 나타난다는 의미네요. 이메일 사이트 주소에 해당하는 부분이군요! 다만 123.4567 처럼 .com외에 다양한 도메인이 허용이 되는 허점은 있겠네요."
      ],
      "metadata": {
        "id": "s_qPiTA7RzMz"
      }
    },
    {
      "cell_type": "markdown",
      "source": [
        "## 텍스트의 다양한 변신 (문자열, 파일 다루기)"
      ],
      "metadata": {
        "id": "USvDCH35pz6Q"
      }
    },
    {
      "cell_type": "code",
      "source": [
        "f = open(\"hello.txt\",\"w\")\n",
        "#- open(파일명, 파일모드)\n",
        "#- 파일을 열고 파일 객체를 반환합니다.\n",
        "for i in range(10):\n",
        "    f.write(\"안녕\")\n",
        "    #- write() 메서드로 '안녕'을 10번 씁니다.\n",
        "f.close()\n",
        "#- 작업이 끝나면 close() 메서드로 닫아줍니다. *필수!\n",
        "\n",
        "print(\"완료!\")"
      ],
      "metadata": {
        "colab": {
          "base_uri": "https://localhost:8080/"
        },
        "id": "sqDy_v8Wp3-k",
        "outputId": "09ad5855-6f5c-4769-af02-f96123fdfa10"
      },
      "execution_count": 19,
      "outputs": [
        {
          "output_type": "stream",
          "name": "stdout",
          "text": [
            "완료!\n"
          ]
        }
      ]
    },
    {
      "cell_type": "code",
      "source": [
        "with open(\"hello.txt\", \"r\") as f:\n",
        "  print(f.read())"
      ],
      "metadata": {
        "colab": {
          "base_uri": "https://localhost:8080/"
        },
        "id": "lDUvCVWTp4kr",
        "outputId": "8eda4884-49be-4f23-d326-dc12328a257b"
      },
      "execution_count": 20,
      "outputs": [
        {
          "output_type": "stream",
          "name": "stdout",
          "text": [
            "안녕안녕안녕안녕안녕안녕안녕안녕안녕안녕\n"
          ]
        }
      ]
    },
    {
      "cell_type": "markdown",
      "source": [
        "# 예제"
      ],
      "metadata": {
        "id": "rkN1xIvHqI7r"
      }
    },
    {
      "cell_type": "code",
      "source": [
        "quotes = [\"\\n안녕하세요.\\n\", \"반갑습니다.\\n\", \"오랜만입니다.\\n\"]\n",
        "\n",
        "with open(\"hello.txt\", \"a\") as f:              # 위에서 만든 파일에 이어서 씁니다.\n",
        "    f.writelines(quotes)"
      ],
      "metadata": {
        "id": "SYOZ-UELqIb4"
      },
      "execution_count": 21,
      "outputs": []
    },
    {
      "cell_type": "code",
      "source": [
        "with open('hello.txt', 'r') as f:\n",
        "    hello = f.readlines()\n",
        "    print(f'위치 : {f.tell()}')\n",
        "    print(hello)\n",
        "    print(\"----------------------------------------------------\")\n",
        "    f.seek(10)\n",
        "    print(f'위치 : {f.tell()}')"
      ],
      "metadata": {
        "colab": {
          "base_uri": "https://localhost:8080/"
        },
        "id": "j8we0-0vqLOf",
        "outputId": "7ac67779-7ef0-422f-81cf-b448876d224b"
      },
      "execution_count": 22,
      "outputs": [
        {
          "output_type": "stream",
          "name": "stdout",
          "text": [
            "위치 : 115\n",
            "['안녕안녕안녕안녕안녕안녕안녕안녕안녕안녕\\n', '안녕하세요.\\n', '반갑습니다.\\n', '오랜만입니다.\\n']\n",
            "----------------------------------------------------\n",
            "위치 : 10\n"
          ]
        }
      ]
    },
    {
      "cell_type": "markdown",
      "source": [
        "# 2. 전처리\n",
        "## 2.1. 전처리: 자연어의 노이즈 제거\n"
      ],
      "metadata": {
        "id": "_yvccGyU8jbN"
      }
    },
    {
      "cell_type": "code",
      "execution_count": 23,
      "metadata": {
        "colab": {
          "base_uri": "https://localhost:8080/"
        },
        "id": "nsL0l314sT1A",
        "outputId": "4d573c2e-c88f-44c7-fc8e-1446caaf1352"
      },
      "outputs": [
        {
          "output_type": "stream",
          "name": "stdout",
          "text": [
            "Hi ,  my name is john . \n"
          ]
        }
      ],
      "source": [
        "# 구두점 앞뒤에 공백을 추가하는 함수 정의\n",
        "def pad_punctuation(sentence, punc):\n",
        "    # 전달받은 구두점 리스트(punc)에 대해 반복\n",
        "    for p in punc:\n",
        "        # 각 구두점 p를 \" p \" (앞뒤에 공백 포함)로 대체\n",
        "        sentence = sentence.replace(p, \" \" + p + \" \")\n",
        "\n",
        "    # 공백이 추가된 문장을 반환\n",
        "    return sentence\n",
        "\n",
        "# 테스트할 문장\n",
        "sentence = \"Hi, my name is john.\"\n",
        "\n",
        "# '.', '?', '!', ',' 구두점 앞뒤에 공백을 추가한 결과 출력\n",
        "print(pad_punctuation(sentence, [\".\", \"?\", \"!\", \",\"]))\n",
        "# 출력 결과: 'Hi , my name is john .'\n",
        "\n",
        "#큰따옴표(\")는 문자열의 시작과 끝을 표시하는 파이썬의 문법적인 표시일 뿐, 실제 문자열 안에 포함된 문자가 아닙니다."
      ]
    },
    {
      "cell_type": "markdown",
      "source": [
        "## 대소문자의 처리"
      ],
      "metadata": {
        "id": "rF5hXwVt-FHf"
      }
    },
    {
      "cell_type": "code",
      "source": [
        "sentence = \"First, open the first chapter.\"\n",
        "\n",
        "print(sentence.lower())"
      ],
      "metadata": {
        "colab": {
          "base_uri": "https://localhost:8080/"
        },
        "id": "ZjseDN2_sd4X",
        "outputId": "e946d771-b236-42ed-ea6b-814e53c1084d"
      },
      "execution_count": 24,
      "outputs": [
        {
          "output_type": "stream",
          "name": "stdout",
          "text": [
            "first, open the first chapter.\n"
          ]
        }
      ]
    },
    {
      "cell_type": "code",
      "source": [
        "sentence = \"First, open the first chapter.\"\n",
        "\n",
        "# Q. sentence의 모든 단어를 대문자로 바꿔보세요.\n",
        "# 힌트: upper() 함수를 사용해 보세요!\n",
        "print(sentence.upper())"
      ],
      "metadata": {
        "colab": {
          "base_uri": "https://localhost:8080/"
        },
        "id": "Z9ujrrxjse_u",
        "outputId": "49273987-ba21-494d-8ba7-87fe2865933a"
      },
      "execution_count": 25,
      "outputs": [
        {
          "output_type": "stream",
          "name": "stdout",
          "text": [
            "FIRST, OPEN THE FIRST CHAPTER.\n"
          ]
        }
      ]
    },
    {
      "cell_type": "code",
      "source": [
        "import re  # 정규표현식을 사용하기 위한 파이썬 내장 모듈 불러오기\n",
        "\n",
        "sentence = \"He is a ten-year-old boy.\"  # 원본 문장 정의\n",
        "\n",
        "# 정규표현식 사용:\n",
        "# 괄호 안의 [^a-zA-Z.,?!]는 알파벳 소문자, 대문자, '.', ',', '?', '!'를 제외한 모든 문자와 일치\n",
        "# 그 문자를 \" \"(공백)으로 대체\n",
        "sentence = re.sub(\"([^a-zA-Z.,?!])\", \" \", sentence)\n",
        "\n",
        "print(sentence)  # 결과 출력 → He is a ten year old boy.\n"
      ],
      "metadata": {
        "colab": {
          "base_uri": "https://localhost:8080/"
        },
        "id": "yMsV5uMLsiNk",
        "outputId": "db7361e5-7bcb-4fd1-e6f6-c0d56571ba4f"
      },
      "execution_count": 26,
      "outputs": [
        {
          "output_type": "stream",
          "name": "stdout",
          "text": [
            "He is a ten year old boy.\n"
          ]
        }
      ]
    },
    {
      "cell_type": "markdown",
      "source": [
        "| 구성 요소                      | 의미                                      |\n",
        "| -------------------------- | --------------------------------------- |\n",
        "| `regex`                    | 정규표현식으로, 제거할 문자 범위를 지정                  |\n",
        "| `[^a-zA-Z0-9.,?!\\n]`       | 영어 알파벳, 숫자, 마침표/쉼표/물음표/느낌표, 줄바꿈을 제외한 문자 |\n",
        "| `re.sub(regex, \" \", text)` | 정규표현식에 해당하는 문자를 모두 공백으로 대체              |\n",
        "| `.lower()`                 | 모든 문자를 소문자로 변환                          |\n"
      ],
      "metadata": {
        "id": "4DKB9biJAi7n"
      }
    },
    {
      "cell_type": "code",
      "source": [
        "# From The Project Gutenberg\n",
        "# (https://www.gutenberg.org/files/2397/2397-h/2397-h.htm)\n",
        "\n",
        "corpus = \\\n",
        "\"\"\"\n",
        "In the days that followed I learned to spell in this uncomprehending way a great many words, among them pin, hat, cup and a few verbs like sit, stand and walk.\n",
        "But my teacher had been with me several weeks before I understood that everything has a name.\n",
        "One day, we walked down the path to the well-house, attracted by the fragrance of the honeysuckle with which it was covered.\n",
        "Some one was drawing water and my teacher placed my hand under the spout.\n",
        "As the cool stream gushed over one hand she spelled into the other the word water, first slowly, then rapidly.\n",
        "I stood still, my whole attention fixed upon the motions of her fingers.\n",
        "Suddenly I felt a misty consciousness as of something forgotten—a thrill of returning thought; and somehow the mystery of language was revealed to me.\n",
        "I knew then that \"w-a-t-e-r\" meant the wonderful cool something that was flowing over my hand.\n",
        "That living word awakened my soul, gave it light, hope, joy, set it free!\n",
        "There were barriers still, it is true, but barriers that could in time be swept away.\n",
        "\"\"\"\n",
        "#regex - 알파벳/숫자/.,?!/줄바꿈 문자만 남기고, 그 외의 모든 특수문자/한글/기타 문자는 제거하는 역할을 합니다.\n",
        "\n",
        "\n",
        "def cleaning_text(text, punc, regex):\n",
        "    # 노이즈 유형 (1) 문장부호 공백추가\n",
        "    for p in punc:\n",
        "        text = text.replace(p, \" \" + p + \" \")\n",
        "\n",
        "    # 노이즈 유형 (2), (3) 소문자화 및 특수문자 제거\n",
        "    text = re.sub(regex, \" \", text).lower()\n",
        "\n",
        "    return text\n",
        "\n",
        "print(cleaning_text(corpus, [\".\", \",\", \"!\", \"?\"], \"([^a-zA-Z0-9.,?!\\n])\"))"
      ],
      "metadata": {
        "colab": {
          "base_uri": "https://localhost:8080/"
        },
        "id": "fSKgc9gysji0",
        "outputId": "2dd79130-1a70-4f57-93ea-d6e089b825f7"
      },
      "execution_count": 27,
      "outputs": [
        {
          "output_type": "stream",
          "name": "stdout",
          "text": [
            "\n",
            "in the days that followed i learned to spell in this uncomprehending way a great many words ,  among them pin ,  hat ,  cup and a few verbs like sit ,  stand and walk . \n",
            "but my teacher had been with me several weeks before i understood that everything has a name . \n",
            "one day ,  we walked down the path to the well house ,  attracted by the fragrance of the honeysuckle with which it was covered . \n",
            "some one was drawing water and my teacher placed my hand under the spout . \n",
            "as the cool stream gushed over one hand she spelled into the other the word water ,  first slowly ,  then rapidly . \n",
            "i stood still ,  my whole attention fixed upon the motions of her fingers . \n",
            "suddenly i felt a misty consciousness as of something forgotten a thrill of returning thought  and somehow the mystery of language was revealed to me . \n",
            "i knew then that  w a t e r  meant the wonderful cool something that was flowing over my hand . \n",
            "that living word awakened my soul ,  gave it light ,  hope ,  joy ,  set it free ! \n",
            "there were barriers still ,  it is true ,  but barriers that could in time be swept away . \n",
            "\n"
          ]
        }
      ]
    },
    {
      "cell_type": "code",
      "source": [
        "corpus = \\\n",
        "\"\"\"\n",
        "in the days that followed i learned to spell in this uncomprehending way a great many words ,  among them pin ,  hat ,  cup and a few verbs like sit ,  stand and walk .\n",
        "but my teacher had been with me several weeks before i understood that everything has a name .\n",
        "one day ,  we walked down the path to the well house ,  attracted by the fragrance of the honeysuckle with which it was covered .\n",
        "some one was drawing water and my teacher placed my hand under the spout .\n",
        "as the cool stream gushed over one hand she spelled into the other the word water ,  first slowly ,  then rapidly .\n",
        "i stood still ,  my whole attention fixed upon the motions of her fingers .\n",
        "suddenly i felt a misty consciousness as of something forgotten a thrill of returning thought  and somehow the mystery of language was revealed to me .\n",
        "i knew then that  w a t e r  meant the wonderful cool something that was flowing over my hand .\n",
        "that living word awakened my soul ,  gave it light ,  hope ,  joy ,  set it free !\n",
        "there were barriers still ,  it is true ,  but barriers that could in time be swept away .\n",
        "\"\"\"\n",
        "\n",
        "tokens = corpus.split()\n",
        "\n",
        "print(\"문장이 포함하는 Tokens:\", tokens)"
      ],
      "metadata": {
        "colab": {
          "base_uri": "https://localhost:8080/"
        },
        "id": "Edk3kQYOsnKC",
        "outputId": "7efa8754-0d9f-4132-fb10-a95a8753495d"
      },
      "execution_count": 28,
      "outputs": [
        {
          "output_type": "stream",
          "name": "stdout",
          "text": [
            "문장이 포함하는 Tokens: ['in', 'the', 'days', 'that', 'followed', 'i', 'learned', 'to', 'spell', 'in', 'this', 'uncomprehending', 'way', 'a', 'great', 'many', 'words', ',', 'among', 'them', 'pin', ',', 'hat', ',', 'cup', 'and', 'a', 'few', 'verbs', 'like', 'sit', ',', 'stand', 'and', 'walk', '.', 'but', 'my', 'teacher', 'had', 'been', 'with', 'me', 'several', 'weeks', 'before', 'i', 'understood', 'that', 'everything', 'has', 'a', 'name', '.', 'one', 'day', ',', 'we', 'walked', 'down', 'the', 'path', 'to', 'the', 'well', 'house', ',', 'attracted', 'by', 'the', 'fragrance', 'of', 'the', 'honeysuckle', 'with', 'which', 'it', 'was', 'covered', '.', 'some', 'one', 'was', 'drawing', 'water', 'and', 'my', 'teacher', 'placed', 'my', 'hand', 'under', 'the', 'spout', '.', 'as', 'the', 'cool', 'stream', 'gushed', 'over', 'one', 'hand', 'she', 'spelled', 'into', 'the', 'other', 'the', 'word', 'water', ',', 'first', 'slowly', ',', 'then', 'rapidly', '.', 'i', 'stood', 'still', ',', 'my', 'whole', 'attention', 'fixed', 'upon', 'the', 'motions', 'of', 'her', 'fingers', '.', 'suddenly', 'i', 'felt', 'a', 'misty', 'consciousness', 'as', 'of', 'something', 'forgotten', 'a', 'thrill', 'of', 'returning', 'thought', 'and', 'somehow', 'the', 'mystery', 'of', 'language', 'was', 'revealed', 'to', 'me', '.', 'i', 'knew', 'then', 'that', 'w', 'a', 't', 'e', 'r', 'meant', 'the', 'wonderful', 'cool', 'something', 'that', 'was', 'flowing', 'over', 'my', 'hand', '.', 'that', 'living', 'word', 'awakened', 'my', 'soul', ',', 'gave', 'it', 'light', ',', 'hope', ',', 'joy', ',', 'set', 'it', 'free', '!', 'there', 'were', 'barriers', 'still', ',', 'it', 'is', 'true', ',', 'but', 'barriers', 'that', 'could', 'in', 'time', 'be', 'swept', 'away', '.']\n"
          ]
        }
      ]
    },
    {
      "cell_type": "markdown",
      "source": [
        "## 형태소 기반 토큰화"
      ],
      "metadata": {
        "id": "wliiVLMxGyOO"
      }
    },
    {
      "cell_type": "code",
      "source": [
        "!pip install konlpy"
      ],
      "metadata": {
        "colab": {
          "base_uri": "https://localhost:8080/"
        },
        "id": "7IV2cXPgtRyc",
        "outputId": "240c203d-08b8-42b8-8048-49139e4340df"
      },
      "execution_count": 29,
      "outputs": [
        {
          "output_type": "stream",
          "name": "stdout",
          "text": [
            "Collecting konlpy\n",
            "  Downloading konlpy-0.6.0-py2.py3-none-any.whl.metadata (1.9 kB)\n",
            "Collecting JPype1>=0.7.0 (from konlpy)\n",
            "  Downloading jpype1-1.5.2-cp311-cp311-manylinux_2_17_x86_64.manylinux2014_x86_64.whl.metadata (4.9 kB)\n",
            "Requirement already satisfied: lxml>=4.1.0 in /usr/local/lib/python3.11/dist-packages (from konlpy) (5.4.0)\n",
            "Requirement already satisfied: numpy>=1.6 in /usr/local/lib/python3.11/dist-packages (from konlpy) (2.0.2)\n",
            "Requirement already satisfied: packaging in /usr/local/lib/python3.11/dist-packages (from JPype1>=0.7.0->konlpy) (24.2)\n",
            "Downloading konlpy-0.6.0-py2.py3-none-any.whl (19.4 MB)\n",
            "\u001b[2K   \u001b[90m━━━━━━━━━━━━━━━━━━━━━━━━━━━━━━━━━━━━━━━━\u001b[0m \u001b[32m19.4/19.4 MB\u001b[0m \u001b[31m89.2 MB/s\u001b[0m eta \u001b[36m0:00:00\u001b[0m\n",
            "\u001b[?25hDownloading jpype1-1.5.2-cp311-cp311-manylinux_2_17_x86_64.manylinux2014_x86_64.whl (494 kB)\n",
            "\u001b[2K   \u001b[90m━━━━━━━━━━━━━━━━━━━━━━━━━━━━━━━━━━━━━━━━\u001b[0m \u001b[32m494.1/494.1 kB\u001b[0m \u001b[31m34.2 MB/s\u001b[0m eta \u001b[36m0:00:00\u001b[0m\n",
            "\u001b[?25hInstalling collected packages: JPype1, konlpy\n",
            "Successfully installed JPype1-1.5.2 konlpy-0.6.0\n"
          ]
        }
      ]
    },
    {
      "cell_type": "code",
      "source": [
        "from konlpy.tag import Hannanum,Kkma,Komoran,Okt  # Mecab 은 빼고, Colab에서는 설치되지 않음"
      ],
      "metadata": {
        "id": "lZZGIvsMtTho"
      },
      "execution_count": 30,
      "outputs": []
    },
    {
      "cell_type": "code",
      "source": [
        "tokenizer_list = [Hannanum(),Kkma(),Komoran(),Okt()] # Mecab()은 빼고\n",
        "\n",
        "kor_text = '코로나바이러스는 2019년 12월 중국 우한에서 처음 발생한 뒤 전 세계로 확산된, 새로운 유형의 호흡기 감염 질환입니다.'\n",
        "\n",
        "for tokenizer in tokenizer_list:\n",
        "    print('[{}] \\n{}'.format(tokenizer.__class__.__name__, tokenizer.pos(kor_text)))"
      ],
      "metadata": {
        "colab": {
          "base_uri": "https://localhost:8080/"
        },
        "id": "lCXqEMRFsn9f",
        "outputId": "9ed96924-aae8-435a-f7e1-0e7e44c5ce4d"
      },
      "execution_count": 31,
      "outputs": [
        {
          "output_type": "stream",
          "name": "stdout",
          "text": [
            "[Hannanum] \n",
            "[('코로나바이러스', 'N'), ('는', 'J'), ('2019년', 'N'), ('12월', 'N'), ('중국', 'N'), ('우한', 'N'), ('에서', 'J'), ('처음', 'M'), ('발생', 'N'), ('하', 'X'), ('ㄴ', 'E'), ('뒤', 'N'), ('전', 'N'), ('세계', 'N'), ('로', 'J'), ('확산', 'N'), ('되', 'X'), ('ㄴ', 'E'), (',', 'S'), ('새롭', 'P'), ('은', 'E'), ('유형', 'N'), ('의', 'J'), ('호흡기', 'N'), ('감염', 'N'), ('질환', 'N'), ('이', 'J'), ('ㅂ니다', 'E'), ('.', 'S')]\n",
            "[Kkma] \n",
            "[('코로나', 'NNG'), ('바', 'NNG'), ('이러', 'MAG'), ('슬', 'VV'), ('는', 'ETD'), ('2019', 'NR'), ('년', 'NNM'), ('12', 'NR'), ('월', 'NNM'), ('중국', 'NNG'), ('우', 'NNG'), ('하', 'XSV'), ('ㄴ', 'ETD'), ('에', 'VV'), ('서', 'ECD'), ('처음', 'NNG'), ('발생', 'NNG'), ('하', 'XSV'), ('ㄴ', 'ETD'), ('뒤', 'NNG'), ('전', 'NNG'), ('세계', 'NNG'), ('로', 'JKM'), ('확산', 'NNG'), ('되', 'XSV'), ('ㄴ', 'ETD'), (',', 'SP'), ('새', 'NNG'), ('롭', 'XSA'), ('ㄴ', 'ETD'), ('유형', 'NNG'), ('의', 'JKG'), ('호흡기', 'NNG'), ('감염', 'NNG'), ('질환', 'NNG'), ('이', 'VCP'), ('ㅂ니다', 'EFN'), ('.', 'SF')]\n",
            "[Komoran] \n",
            "[('코로나바이러스', 'NNP'), ('는', 'JX'), ('2019', 'SN'), ('년', 'NNB'), ('12월', 'NNP'), ('중국', 'NNP'), ('우', 'NNP'), ('한', 'NNP'), ('에서', 'JKB'), ('처음', 'NNG'), ('발생', 'NNG'), ('하', 'XSV'), ('ㄴ', 'ETM'), ('뒤', 'NNG'), ('전', 'MM'), ('세계로', 'NNP'), ('확산', 'NNG'), ('되', 'XSV'), ('ㄴ', 'ETM'), (',', 'SP'), ('새롭', 'VA'), ('ㄴ', 'ETM'), ('유형', 'NNP'), ('의', 'JKG'), ('호흡기', 'NNG'), ('감염', 'NNP'), ('질환', 'NNG'), ('이', 'VCP'), ('ㅂ니다', 'EF'), ('.', 'SF')]\n",
            "[Okt] \n",
            "[('코로나바이러스', 'Noun'), ('는', 'Josa'), ('2019년', 'Number'), ('12월', 'Number'), ('중국', 'Noun'), ('우한', 'Noun'), ('에서', 'Josa'), ('처음', 'Noun'), ('발생', 'Noun'), ('한', 'Josa'), ('뒤', 'Noun'), ('전', 'Noun'), ('세계', 'Noun'), ('로', 'Josa'), ('확산', 'Noun'), ('된', 'Verb'), (',', 'Punctuation'), ('새로운', 'Adjective'), ('유형', 'Noun'), ('의', 'Josa'), ('호흡기', 'Noun'), ('감염', 'Noun'), ('질환', 'Noun'), ('입니다', 'Adjective'), ('.', 'Punctuation')]\n"
          ]
        }
      ]
    },
    {
      "cell_type": "code",
      "source": [
        "import re, collections  # 정규표현식과 딕셔너리 기능을 위해 필요한 모듈\n",
        "\n",
        "# 초기 단어 집합: 단어는 글자 사이에 공백이 있는 형태로 표현되어 있음\n",
        "# 각 단어의 빈도수가 value로 저장되어 있음\n",
        "vocab = {\n",
        "    'l o w '      : 5,\n",
        "    'l o w e r '  : 2,\n",
        "    'n e w e s t ': 6,\n",
        "    'w i d e s t ': 3\n",
        "}\n",
        "\n",
        "num_merges = 5  # 병합을 몇 번 수행할지 지정\n",
        "\n",
        "def get_stats(vocab):\n",
        "    \"\"\"\n",
        "    단어 집합에서 문자 쌍들의 등장 빈도를 계산\n",
        "    예: ('l', 'o'), ('o', 'w') 등\n",
        "    \"\"\"\n",
        "    pairs = collections.defaultdict(int)\n",
        "\n",
        "    for word, freq in vocab.items():\n",
        "        symbols = word.split()  # 단어를 공백 기준으로 쪼개어 문자 리스트로 만듦\n",
        "\n",
        "        for i in range(len(symbols) - 1):\n",
        "            pairs[symbols[i], symbols[i + 1]] += freq  # 인접한 문자쌍에 빈도 추가\n",
        "\n",
        "    return pairs  # 문자 쌍 -> 빈도수 딕셔너리 반환\n",
        "\n",
        "def merge_vocab(pair, v_in):\n",
        "    \"\"\"\n",
        "    가장 많이 등장한 문자쌍(pair)을 하나의 토큰처럼 병합\n",
        "    단어 내에서 해당 문자쌍을 합쳐 새로운 단어로 변환\n",
        "    \"\"\"\n",
        "    v_out = {}  # 병합된 새 vocab을 저장할 딕셔너리\n",
        "\n",
        "    # 정규표현식: 문자쌍을 공백으로 구분된 단어 안에서 찾기 위해 패턴 생성\n",
        "    bigram = re.escape(' '.join(pair))\n",
        "    p = re.compile(r'(?<!\\S)' + bigram + r'(?!\\S)')  # 단어 경계를 고려한 정규식\n",
        "\n",
        "    for word in v_in:\n",
        "        w_out = p.sub(''.join(pair), word)  # 문자쌍을 합쳐 하나의 토큰으로 대체\n",
        "        v_out[w_out] = v_in[word]  # 새로운 단어 형태로 vocab 업데이트\n",
        "\n",
        "    return v_out, pair[0] + pair[1]  # 업데이트된 vocab과 병합된 토큰 반환\n",
        "\n",
        "token_vocab = []  # 병합된 토큰들을 저장할 리스트\n",
        "\n",
        "# 지정된 횟수만큼 반복 수행\n",
        "for i in range(num_merges):\n",
        "    print(\">> Step {0}\".format(i + 1))\n",
        "\n",
        "    pairs = get_stats(vocab)  # 현재 vocab에서 문자쌍 빈도 계산\n",
        "    best = max(pairs, key=pairs.get)  # 가장 자주 등장한 문자쌍 선택\n",
        "    vocab, merge_tok = merge_vocab(best, vocab)  # 병합 수행\n",
        "    print(\"다음 문자 쌍을 치환:\", merge_tok)\n",
        "    print(\"변환된 Vocab:\\n\", vocab, \"\\n\")\n",
        "\n",
        "    token_vocab.append(merge_tok)  # 병합된 토큰 저장\n",
        "\n",
        "print(\"Merged Vocab:\", token_vocab)  # 최종 병합된 토큰 리스트 출력\n"
      ],
      "metadata": {
        "id": "-BL0w1jfs44L",
        "colab": {
          "base_uri": "https://localhost:8080/"
        },
        "outputId": "54942de6-f1a0-440f-837b-4d76b29ff68a"
      },
      "execution_count": 32,
      "outputs": [
        {
          "output_type": "stream",
          "name": "stdout",
          "text": [
            ">> Step 1\n",
            "다음 문자 쌍을 치환: es\n",
            "변환된 Vocab:\n",
            " {'l o w ': 5, 'l o w e r ': 2, 'n e w es t ': 6, 'w i d es t ': 3} \n",
            "\n",
            ">> Step 2\n",
            "다음 문자 쌍을 치환: est\n",
            "변환된 Vocab:\n",
            " {'l o w ': 5, 'l o w e r ': 2, 'n e w est ': 6, 'w i d est ': 3} \n",
            "\n",
            ">> Step 3\n",
            "다음 문자 쌍을 치환: lo\n",
            "변환된 Vocab:\n",
            " {'lo w ': 5, 'lo w e r ': 2, 'n e w est ': 6, 'w i d est ': 3} \n",
            "\n",
            ">> Step 4\n",
            "다음 문자 쌍을 치환: low\n",
            "변환된 Vocab:\n",
            " {'low ': 5, 'low e r ': 2, 'n e w est ': 6, 'w i d est ': 3} \n",
            "\n",
            ">> Step 5\n",
            "다음 문자 쌍을 치환: ne\n",
            "변환된 Vocab:\n",
            " {'low ': 5, 'low e r ': 2, 'ne w est ': 6, 'w i d est ': 3} \n",
            "\n",
            "Merged Vocab: ['es', 'est', 'lo', 'low', 'ne']\n"
          ]
        }
      ]
    }
  ]
}